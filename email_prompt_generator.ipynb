{
 "cells": [
  {
   "cell_type": "code",
   "execution_count": 2,
   "id": "6bf23865",
   "metadata": {},
   "outputs": [],
   "source": [
    "import json\n",
    "import openai ## Must be updated to the most recent version\n",
    "import boto3\n",
    "\n",
    "def fetch_key_from_env(env, keys):\n",
    "    s3_client = boto3.resource('s3')\n",
    "    env = '.env.' + env\n",
    "\n",
    "    config = s3_client.Object('prod-be-config', env).get()['Body'].read().decode(\"utf-8\").split('\\n')\n",
    "\n",
    "    keys_to_return = {}\n",
    "    for i in config:\n",
    "        row = i.split('=')\n",
    "        if len(row) > 1:\n",
    "            row_key = row[0]\n",
    "            row_value = row[1]\n",
    "            if row_key in keys:\n",
    "                keys_to_return.update({row_key : row_value})\n",
    "    \n",
    "    return(keys_to_return)\n",
    "\n",
    "open_ai_key = fetch_key_from_env('production', 'OPEN_AI_GPT3_ACCESS_KEY')\n",
    "openai.api_key = open_ai_key['OPEN_AI_GPT3_ACCESS_KEY']\n"
   ]
  },
  {
   "cell_type": "code",
   "execution_count": 57,
   "id": "9edb681f",
   "metadata": {},
   "outputs": [
    {
     "data": {
      "text/plain": [
       "{'campaigns': [{'prompt': 'Celebrate Singapore National Day at our restaurant and enjoy special discounts!',\n",
       "   'campaign_justification': \"With Singapore National Day approaching, it's a great opportunity to promote our restaurant and offer exclusive discounts to attract customers.\"},\n",
       "  {'prompt': 'Order online and get 10% off your meal during rainy days!',\n",
       "   'campaign_justification': 'With the current rainy weather, encourage customers to order online and offer them a discount to boost online sales.'},\n",
       "  {'prompt': 'Share your feedback and win a chance to receive a free meal!',\n",
       "   'campaign_justification': 'Since the number of surveys received has decreased, incentivize customers to provide feedback with a chance to win a free meal, which will help increase engagement.'},\n",
       "  {'prompt': 'Experience our new outlet in Woodlands and enjoy a complimentary dessert!',\n",
       "   'campaign_justification': 'With the opening of a new outlet in Woodlands, entice customers to visit by offering them a complimentary dessert, increasing footfall and promoting the new location.'},\n",
       "  {'prompt': 'Refer a friend and both of you will get 20% off your next visit!',\n",
       "   'campaign_justification': 'With lower sales and ratings this week, encourage word-of-mouth marketing by offering customers a discount for referring a friend, helping to attract new customers and increase sales.'}]}"
      ]
     },
     "execution_count": 57,
     "metadata": {},
     "output_type": "execute_result"
    }
   ],
   "source": [
    "\n",
    "with open('prompt_context.json', 'r') as file:\n",
    "    prompt_context = json.load(file)\n",
    "\n",
    "    \n",
    "\n",
    "recommend_campaign_ideas = openai.ChatCompletion.create(\n",
    "        model=\"gpt-3.5-turbo-0613\",\n",
    "        messages=[\n",
    "        {\"role\": \"system\", \"content\": f'''You are a world class marketing planner for a restaurant. You have access to a powerful CRM tool that allows you to create email campaigns to reengage customers in the restaurants customer database. Within these email campaigns, you can include general marketing messages to build awareness, or drive recipients to perform specific actions such as make a reservation, order online, fill out a feedback survey, or redeem a discount offer. Each week, you are given a JSON of data about the business's performance, including sales metrics, review ratings, and number of reviews. In response, you will generate a list of five email campaign prompts that the business could consider running. These prompts should be concise, no more than a sentence or two each.'''},\n",
    "        {\"role\": \"user\", \"content\": f'''Here are this week's performance metrics: {prompt_context}\\n\\n Please provide a JSON (using the top level key \"campaigns\") with an array of five recommended campaigns. Each campaign should come within an object in the main array containing two keys: prompt (containing the campaign prompt), campaign_justification (a brief explanation for why the restaurant should run this campaign based on the provided context). The JSON should be returned with no additional clarifications, commentary or pleasantries.'''}\n",
    "    ]\n",
    "    )\n",
    "\n",
    "campaign_ideas = json.loads(recommend_campaign_ideas['choices'][0]['message']['content'])\n",
    "\n",
    "campaign_ideas"
   ]
  },
  {
   "cell_type": "code",
   "execution_count": 69,
   "id": "7f23835a",
   "metadata": {},
   "outputs": [
    {
     "data": {
      "text/plain": [
       "[{'prompt': 'Share your feedback and win a chance to receive a free meal!',\n",
       "  'campaign_justification': 'Since the number of surveys received has decreased, incentivize customers to provide feedback with a chance to win a free meal, which will help increase engagement.'},\n",
       " {'filters': [{'name': 'survey_rating', 'operator': 'equals', 'value': 5},\n",
       "   {'name': 'issued_voucher_created_at',\n",
       "    'operator': 'last',\n",
       "    'value': '30 days'}],\n",
       "  'audience_justification': 'I would select customers who have rated the restaurant with 5 stars in the survey, indicating their satisfaction. Additionally, I would include customers who have been issued vouchers in the last 30 days to target those who are likely to redeem offers and potentially provide feedback after their free meal.'}]"
      ]
     },
     "execution_count": 69,
     "metadata": {},
     "output_type": "execute_result"
    }
   ],
   "source": [
    "with open('filter_context.json', 'r') as file:\n",
    "    filter_context = json.load(file)\n",
    "\n",
    "campaign_recommendation = campaign_ideas['campaigns'][2]\n",
    "\n",
    "recommend_audience = openai.ChatCompletion.create(\n",
    "        model=\"gpt-3.5-turbo-0613\",\n",
    "        messages=[\n",
    "        {\"role\": \"system\", \"content\": f'''You are a data analyst in charge of the customer database for a restaurant. Your job is to create filtered sets of customers from within the customer database that match a simple prompt given to you by the restaurant marketing manager describing an upcoming campaign. Here is a description of the filters that are available to you within the customer database: {filter_context}\\n\\n When given a prompt for an audience, return a JSON array containing the filters that you would select, and what you would set those filters to in order to create the requested audience in a key titled filters. In a separate key entitled audience_justification include a brief explanation of why you think those filters make sense. When prompted, return only the json, with no extra clarification, pleasantries or greetings.'''},\n",
    "        {\"role\": \"user\", \"content\": f'''{campaign_recommendation['prompt']}'''}\n",
    "    ]\n",
    "    )\n",
    "\n",
    "campaign_recommendation_plus_audience = [campaign_recommendation, json.loads(recommend_audience['choices'][0]['message']['content'])]\n",
    "campaign_recommendation_plus_audience"
   ]
  },
  {
   "cell_type": "code",
   "execution_count": null,
   "id": "15350da1",
   "metadata": {},
   "outputs": [],
   "source": [
    "cam"
   ]
  }
 ],
 "metadata": {
  "kernelspec": {
   "display_name": "Python 3 (ipykernel)",
   "language": "python",
   "name": "python3"
  },
  "language_info": {
   "codemirror_mode": {
    "name": "ipython",
    "version": 3
   },
   "file_extension": ".py",
   "mimetype": "text/x-python",
   "name": "python",
   "nbconvert_exporter": "python",
   "pygments_lexer": "ipython3",
   "version": "3.8.5"
  }
 },
 "nbformat": 4,
 "nbformat_minor": 5
}
